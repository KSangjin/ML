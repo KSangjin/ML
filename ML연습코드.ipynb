{
  "cells": [
    {
      "cell_type": "code",
      "source": [
        "import math\n",
        "import random\n",
        "\n",
        "a = random.uniform(-1,1)\n",
        "b = random.uniform(-1,1)\n",
        "c = random.uniform(-1,1)\n",
        "d = random.uniform(-1,1)\n",
        "e = random.uniform(-1,1)\n",
        "f = random.uniform(-1,1)\n",
        "g = random.uniform(-1,1)\n",
        "h = random.uniform(-1,1)\n",
        "i = random.uniform(-1,1)\n",
        "\n",
        "eta = 0.0001\n",
        "\n",
        "def sigmoid(x):\n",
        "    return 1.0/(1.0+math.exp(-x))\n",
        "\n",
        "data = [(5,10),(7,18),(10,8),(15,15),(20,3),(23,12)]\n",
        "lables = [-1,-1,+1,+1,-1,-1]\n",
        "\n",
        "for counter in range(1000):\n",
        "    da=db=dc=dd=de=df=dg=dh=di=0.0\n",
        "    for idx in range(len(data)):\n",
        "        x = float(data[idx][0])\n",
        "        y = float(data[idx][1])\n",
        "        z1 = a*x+b*y+c\n",
        "        X = sigmoid(z1)\n",
        "        z2 = d*x+e*y+f\n",
        "        Y = sigmoid(z2)\n",
        "        z = g*X+h*Y+i\n",
        "        Z = lables[idx]\n",
        "        dz = 2*(z-Z)\n",
        "        dz1=dz*g*sigmoid(z1)*(1.0-sigmoid(z1))\n",
        "        dz2=dz*h*sigmoid(z2)*(1.0-sigmoid(z2))\n",
        "        da+=dz1*x\n",
        "        db+=dz1*y\n",
        "        dc+=dz1\n",
        "        dd+=dz2*x\n",
        "        de+=dz2*y\n",
        "        df+=dz2\n",
        "        dg+=dz*X\n",
        "        dh+=dz*Y\n",
        "        di+=dz\n",
        "\n",
        "a = a-eta*da\n",
        "b = b-eta*db\n",
        "c = c-eta*dc\n",
        "d = d-eta*dd\n",
        "e = e-eta*de\n",
        "f = f-eta*df\n",
        "g = g-eta*dg\n",
        "h = h-eta*dh\n",
        "i = i-eta*di\n",
        "\n",
        "print(\"a=%lf, b=%lf, c=%lf, d=%lf, e=%lf, f=%lf, g=%lf, h=%lf, i=%lf\" %(a,b,c,d,e,f,g,h,i))"
      ],
      "metadata": {
        "id": "d_qPzeS1fQ2j",
        "outputId": "78ab2dba-66e0-477f-c034-4259a778d1ca",
        "colab": {
          "base_uri": "https://localhost:8080/"
        }
      },
      "execution_count": null,
      "outputs": [
        {
          "output_type": "stream",
          "name": "stdout",
          "text": [
            "a=0.910438, b=-0.926698, c=-0.893143, d=-0.554045, e=-0.443370, f=0.295959, g=0.749964, h=-0.095846, i=-0.302690\n"
          ]
        }
      ]
    },
    {
      "cell_type": "code",
      "source": [
        "import math\n",
        "import random\n",
        "\n",
        "a = random.uniform(-1,1)\n",
        "b = random.uniform(-1,1)\n",
        "c = random.uniform(-1,1)\n",
        "d = random.uniform(-1,1)\n",
        "e = random.uniform(-1,1)\n",
        "f = random.uniform(-1,1)\n",
        "g = random.uniform(-1,1)\n",
        "h = random.uniform(-1,1)\n",
        "i = random.uniform(-1,1)\n",
        "\n",
        "eta = 0.0001\n",
        "\n",
        "def sigmoid(x):\n",
        "    return 1.0/(1.0+math.exp(-x))\n",
        "\n",
        "data = [(5,10),(7,18),(10,8),(15,15),(20,3),(23,12)]\n",
        "lables = [-1,-1,+1,+1,-1,-1]\n",
        "\n",
        "for counter in range(1000):\n",
        "    da=db=dc=dd=de=df=dg=dh=di=0.0\n",
        "    for idx in range(len(data)):\n",
        "        x = float(data[idx][0])\n",
        "        y = float(data[idx][1])\n",
        "        z1 = a*x+b*y+c\n",
        "        X = sigmoid(z1)\n",
        "        z2 = d*x+e*y+f\n",
        "        Y = sigmoid(z2)\n",
        "        z = g*X+h*Y+i\n",
        "        Z = lables[idx]\n",
        "        dz = 2*(z-Z)\n",
        "        dz1=dz*g*sigmoid(z1)*(1.0-sigmoid(z1))\n",
        "        dz2=dz*h*sigmoid(z2)*(1.0-sigmoid(z2))\n",
        "        da+=dz1*x\n",
        "        db+=dz1*y\n",
        "        dc+=dz1\n",
        "        dd+=dz2*x\n",
        "        de+=dz2*y\n",
        "        df+=dz2\n",
        "        dg+=dz*X\n",
        "        dh+=dz*Y\n",
        "        di+=dz\n",
        "\n",
        "a = a-eta*da\n",
        "b = b-eta*db\n",
        "c = c-eta*dc\n",
        "d = d-eta*dd\n",
        "e = e-eta*de\n",
        "f = f-eta*df\n",
        "g = g-eta*dg\n",
        "h = h-eta*dh\n",
        "i = i-eta*di\n",
        "\n",
        "print(\"a=%lf, b=%lf, c=%lf, d=%lf, e=%lf, f=%lf, g=%lf, h=%lf, i=%lf\" %(a,b,c,d,e,f,g,h,i))"
      ],
      "metadata": {
        "id": "HccnHQX8fXWe",
        "outputId": "4b03513c-3551-40f2-a067-84b82037138d",
        "colab": {
          "base_uri": "https://localhost:8080/"
        }
      },
      "execution_count": null,
      "outputs": [
        {
          "output_type": "stream",
          "name": "stdout",
          "text": [
            "a=-0.788058, b=-0.424948, c=-0.578309, d=-0.770995, e=0.655412, f=0.490835, g=-0.490801, h=0.843569, i=-0.982888\n"
          ]
        }
      ]
    },
    {
      "cell_type": "code",
      "source": [
        "import math\n",
        "import random\n",
        "\n",
        "a = random.uniform(-1,1)\n",
        "b = random.uniform(-1,1)\n",
        "c = random.uniform(-1,1)\n",
        "d = random.uniform(-1,1)\n",
        "e = random.uniform(-1,1)\n",
        "f = random.uniform(-1,1)\n",
        "g = random.uniform(-1,1)\n",
        "h = random.uniform(-1,1)\n",
        "i = random.uniform(-1,1)\n",
        "\n",
        "eta = 0.0001\n",
        "\n",
        "def sigmoid(x):\n",
        "    return 1.0/(1.0+math.exp(-x))\n",
        "\n",
        "data = [(5,10),(7,18),(10,8),(15,15),(20,3),(23,12)]\n",
        "lables = [-1,-1,+1,+1,-1,-1]\n",
        "\n",
        "for counter in range(1000):\n",
        "    da=db=dc=dd=de=df=dg=dh=di=0.0\n",
        "    for idx in range(len(data)):\n",
        "        x = float(data[idx][0])\n",
        "        y = float(data[idx][1])\n",
        "        z1 = a*x+b*y+c\n",
        "        X = sigmoid(z1)\n",
        "        z2 = d*x+e*y+f\n",
        "        Y = sigmoid(z2)\n",
        "        z = g*X+h*Y+i\n",
        "        Z = lables[idx]\n",
        "        dz = 2*(z-Z)\n",
        "        dz1=dz*g*sigmoid(z1)*(1.0-sigmoid(z1))\n",
        "        dz2=dz*h*sigmoid(z2)*(1.0-sigmoid(z2))\n",
        "        da+=dz1*x\n",
        "        db+=dz1*y\n",
        "        dc+=dz1\n",
        "        dd+=dz2*x\n",
        "        de+=dz2*y\n",
        "        df+=dz2\n",
        "        dg+=dz*X\n",
        "        dh+=dz*Y\n",
        "        di+=dz\n",
        "\n",
        "a = a-eta*da\n",
        "b = b-eta*db\n",
        "c = c-eta*dc\n",
        "d = d-eta*dd\n",
        "e = e-eta*de\n",
        "f = f-eta*df\n",
        "g = g-eta*dg\n",
        "h = h-eta*dh\n",
        "i = i-eta*di\n",
        "\n",
        "print(\"a=%lf, b=%lf, c=%lf, d=%lf, e=%lf, f=%lf, g=%lf, h=%lf, i=%lf\" %(a,b,c,d,e,f,g,h,i))"
      ],
      "metadata": {
        "id": "zp9N4TRgfYH9",
        "outputId": "b728c445-30d0-4f4d-a128-73088aa824cf",
        "colab": {
          "base_uri": "https://localhost:8080/"
        }
      },
      "execution_count": null,
      "outputs": [
        {
          "output_type": "stream",
          "name": "stdout",
          "text": [
            "a=0.382075, b=0.348557, c=0.642239, d=0.377388, e=0.111904, f=-0.494412, g=-0.382947, h=0.224765, i=-0.731464\n"
          ]
        }
      ]
    }
  ],
  "metadata": {
    "colab": {
      "toc_visible": true,
      "provenance": []
    },
    "kernelspec": {
      "display_name": "Python 3",
      "name": "python3"
    }
  },
  "nbformat": 4,
  "nbformat_minor": 0
}